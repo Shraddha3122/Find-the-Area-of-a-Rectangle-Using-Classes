{
 "cells": [
  {
   "cell_type": "code",
   "execution_count": 4,
   "id": "2a44eab9",
   "metadata": {},
   "outputs": [
    {
     "name": "stdout",
     "output_type": "stream",
     "text": [
      "Enter length of rectangle: 5\n",
      "Enter breadth of rectangle: 9\n",
      "Area of rectangle: 45\n",
      "\n"
     ]
    }
   ],
   "source": [
    "class rectangle():\n",
    "    def __init__(self,breadth,length):\n",
    "        self.breadth=breadth\n",
    "        self.length=length\n",
    "    def area(self):\n",
    "        return self.breadth*self.length\n",
    "a=int(input(\"Enter length of rectangle: \"))\n",
    "b=int(input(\"Enter breadth of rectangle: \"))\n",
    "obj=rectangle(a,b)\n",
    "print(\"Area of rectangle:\",obj.area())\n",
    " \n",
    "print()"
   ]
  }
 ],
 "metadata": {
  "kernelspec": {
   "display_name": "Python 3 (ipykernel)",
   "language": "python",
   "name": "python3"
  },
  "language_info": {
   "codemirror_mode": {
    "name": "ipython",
    "version": 3
   },
   "file_extension": ".py",
   "mimetype": "text/x-python",
   "name": "python",
   "nbconvert_exporter": "python",
   "pygments_lexer": "ipython3",
   "version": "3.9.12"
  }
 },
 "nbformat": 4,
 "nbformat_minor": 5
}
